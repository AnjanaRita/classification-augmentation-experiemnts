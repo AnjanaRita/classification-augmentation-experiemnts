{
 "cells": [
  {
   "cell_type": "markdown",
   "metadata": {},
   "source": [
    "### Buyer vs Supplier address classification\n",
    "- If we see the data, buyer and supplier both are the basically the address text only. \n",
    "- from a text feature point its very hard to tell which is buyer and supplier address, as they are essentially the same, except for in some cases where we might have few keyphrases to hel pthe classification.\n",
    "- as such, maybe the only thing that might be very useful is the position information of these two.\n",
    "- in this notebook, I will attempt to use the position info and see if we can get somewhere with it. (although, this might require a lot more samples to generalize well)\n"
   ]
  },
  {
   "cell_type": "code",
   "execution_count": 10,
   "metadata": {},
   "outputs": [
    {
     "name": "stderr",
     "output_type": "stream",
     "text": [
      "/home/rita/anaconda3/lib/python3.7/site-packages/sklearn/externals/joblib/__init__.py:15: DeprecationWarning: sklearn.externals.joblib is deprecated in 0.21 and will be removed in 0.23. Please import this functionality directly from joblib, which can be installed with: pip install joblib. If this warning is raised when loading pickled models, you may need to re-serialize those models with scikit-learn 0.21+.\n",
      "  warnings.warn(msg, category=DeprecationWarning)\n"
     ]
    }
   ],
   "source": [
    "from src import DataStats\n",
    "from pprint import pprint\n",
    "\n",
    "from src import BoxBasedTagger\n",
    "from src import check_repeated_data\n",
    "from src.utility import jsonl_reader\n",
    "from src.utility import inspection_full_matching\n",
    "from src.utility import inspection_partial_matching\n",
    "\n",
    "from sklearn.utils import shuffle\n",
    "from src import FeatureGeneration\n",
    "from src.trainer import train_model\n",
    "from sklearn.model_selection import train_test_split as tts\n",
    "from src.utility import print_classifaction_report, save_model"
   ]
  },
  {
   "cell_type": "code",
   "execution_count": 11,
   "metadata": {},
   "outputs": [],
   "source": [
    "dataset = jsonl_reader('dataset/sample_dataset.jsonl')"
   ]
  },
  {
   "cell_type": "code",
   "execution_count": 12,
   "metadata": {},
   "outputs": [
    {
     "data": {
      "text/html": [
       "<div>\n",
       "<style scoped>\n",
       "    .dataframe tbody tr th:only-of-type {\n",
       "        vertical-align: middle;\n",
       "    }\n",
       "\n",
       "    .dataframe tbody tr th {\n",
       "        vertical-align: top;\n",
       "    }\n",
       "\n",
       "    .dataframe thead th {\n",
       "        text-align: right;\n",
       "    }\n",
       "</style>\n",
       "<table border=\"1\" class=\"dataframe\">\n",
       "  <thead>\n",
       "    <tr style=\"text-align: right;\">\n",
       "      <th></th>\n",
       "      <th>text</th>\n",
       "      <th>x1</th>\n",
       "      <th>y1</th>\n",
       "      <th>x2</th>\n",
       "      <th>y2</th>\n",
       "      <th>target</th>\n",
       "      <th>line_id</th>\n",
       "      <th>doc_idx</th>\n",
       "    </tr>\n",
       "    <tr>\n",
       "      <th>target</th>\n",
       "      <th></th>\n",
       "      <th></th>\n",
       "      <th></th>\n",
       "      <th></th>\n",
       "      <th></th>\n",
       "      <th></th>\n",
       "      <th></th>\n",
       "      <th></th>\n",
       "    </tr>\n",
       "  </thead>\n",
       "  <tbody>\n",
       "    <tr>\n",
       "      <th>both</th>\n",
       "      <td>6</td>\n",
       "      <td>7</td>\n",
       "      <td>7</td>\n",
       "      <td>7</td>\n",
       "      <td>7</td>\n",
       "      <td>1</td>\n",
       "      <td>7</td>\n",
       "      <td>3</td>\n",
       "    </tr>\n",
       "    <tr>\n",
       "      <th>buyer-address</th>\n",
       "      <td>166</td>\n",
       "      <td>163</td>\n",
       "      <td>172</td>\n",
       "      <td>173</td>\n",
       "      <td>172</td>\n",
       "      <td>1</td>\n",
       "      <td>13</td>\n",
       "      <td>78</td>\n",
       "    </tr>\n",
       "    <tr>\n",
       "      <th>non-addressline</th>\n",
       "      <td>288</td>\n",
       "      <td>302</td>\n",
       "      <td>307</td>\n",
       "      <td>305</td>\n",
       "      <td>306</td>\n",
       "      <td>1</td>\n",
       "      <td>18</td>\n",
       "      <td>103</td>\n",
       "    </tr>\n",
       "    <tr>\n",
       "      <th>vendor-address</th>\n",
       "      <td>136</td>\n",
       "      <td>139</td>\n",
       "      <td>143</td>\n",
       "      <td>143</td>\n",
       "      <td>144</td>\n",
       "      <td>1</td>\n",
       "      <td>9</td>\n",
       "      <td>71</td>\n",
       "    </tr>\n",
       "  </tbody>\n",
       "</table>\n",
       "</div>"
      ],
      "text/plain": [
       "                 text   x1   y1   x2   y2  target  line_id  doc_idx\n",
       "target                                                             \n",
       "both                6    7    7    7    7       1        7        3\n",
       "buyer-address     166  163  172  173  172       1       13       78\n",
       "non-addressline   288  302  307  305  306       1       18      103\n",
       "vendor-address    136  139  143  143  144       1        9       71"
      ]
     },
     "execution_count": 12,
     "metadata": {},
     "output_type": "execute_result"
    }
   ],
   "source": [
    "#creating a weak supervised dataset based on boundbox\n",
    "tagger = BoxBasedTagger(dataset, thresold=0.30)\n",
    "supervised_data = tagger.result\n",
    "supervised_data.groupby('target').nunique()"
   ]
  },
  {
   "cell_type": "code",
   "execution_count": 13,
   "metadata": {},
   "outputs": [
    {
     "name": "stderr",
     "output_type": "stream",
     "text": [
      "I0725 21:14:51.235091 140268661499712 utils.py:129] Note: NumExpr detected 12 cores but \"NUMEXPR_MAX_THREADS\" not set, so enforcing safe limit of 8.\n",
      "I0725 21:14:51.235593 140268661499712 utils.py:141] NumExpr defaulting to 8 threads.\n"
     ]
    },
    {
     "data": {
      "text/html": [
       "<div>\n",
       "<style scoped>\n",
       "    .dataframe tbody tr th:only-of-type {\n",
       "        vertical-align: middle;\n",
       "    }\n",
       "\n",
       "    .dataframe tbody tr th {\n",
       "        vertical-align: top;\n",
       "    }\n",
       "\n",
       "    .dataframe thead th {\n",
       "        text-align: right;\n",
       "    }\n",
       "</style>\n",
       "<table border=\"1\" class=\"dataframe\">\n",
       "  <thead>\n",
       "    <tr style=\"text-align: right;\">\n",
       "      <th></th>\n",
       "      <th>text</th>\n",
       "      <th>x1</th>\n",
       "      <th>y1</th>\n",
       "      <th>x2</th>\n",
       "      <th>y2</th>\n",
       "      <th>target</th>\n",
       "      <th>line_id</th>\n",
       "      <th>doc_idx</th>\n",
       "    </tr>\n",
       "    <tr>\n",
       "      <th>target</th>\n",
       "      <th></th>\n",
       "      <th></th>\n",
       "      <th></th>\n",
       "      <th></th>\n",
       "      <th></th>\n",
       "      <th></th>\n",
       "      <th></th>\n",
       "      <th></th>\n",
       "    </tr>\n",
       "  </thead>\n",
       "  <tbody>\n",
       "    <tr>\n",
       "      <th>buyer-address</th>\n",
       "      <td>166</td>\n",
       "      <td>163</td>\n",
       "      <td>172</td>\n",
       "      <td>173</td>\n",
       "      <td>172</td>\n",
       "      <td>1</td>\n",
       "      <td>13</td>\n",
       "      <td>78</td>\n",
       "    </tr>\n",
       "    <tr>\n",
       "      <th>non-addressline</th>\n",
       "      <td>288</td>\n",
       "      <td>302</td>\n",
       "      <td>307</td>\n",
       "      <td>305</td>\n",
       "      <td>306</td>\n",
       "      <td>1</td>\n",
       "      <td>18</td>\n",
       "      <td>103</td>\n",
       "    </tr>\n",
       "    <tr>\n",
       "      <th>vendor-address</th>\n",
       "      <td>136</td>\n",
       "      <td>139</td>\n",
       "      <td>143</td>\n",
       "      <td>143</td>\n",
       "      <td>144</td>\n",
       "      <td>1</td>\n",
       "      <td>9</td>\n",
       "      <td>71</td>\n",
       "    </tr>\n",
       "  </tbody>\n",
       "</table>\n",
       "</div>"
      ],
      "text/plain": [
       "                 text   x1   y1   x2   y2  target  line_id  doc_idx\n",
       "target                                                             \n",
       "buyer-address     166  163  172  173  172       1       13       78\n",
       "non-addressline   288  302  307  305  306       1       18      103\n",
       "vendor-address    136  139  143  143  144       1        9       71"
      ]
     },
     "execution_count": 13,
     "metadata": {},
     "output_type": "execute_result"
    }
   ],
   "source": [
    "supervised_data = supervised_data.query(f'target != \"both\"')\n",
    "supervised_data.groupby('target').nunique()"
   ]
  },
  {
   "cell_type": "code",
   "execution_count": 14,
   "metadata": {},
   "outputs": [],
   "source": [
    "imp_columns = ['x1','y1','x2','y2', 'line_id']"
   ]
  },
  {
   "cell_type": "code",
   "execution_count": 15,
   "metadata": {},
   "outputs": [],
   "source": [
    "def train_test_split(dataset, imp_columns):\n",
    "    dataset = shuffle(dataset)\n",
    "    train_data, test_data = tts(dataset,random_state=23)\n",
    "    X_test , y_test = test_data[imp_columns], test_data.target\n",
    "    X_train , y_train = train_data[imp_columns], train_data.target\n",
    "    return X_train, y_train, X_test, y_test, train_data, test_data"
   ]
  },
  {
   "cell_type": "code",
   "execution_count": 16,
   "metadata": {},
   "outputs": [],
   "source": [
    "X_train, y_train, X_test, y_test, train_data, test_data = train_test_split(supervised_data, imp_columns)"
   ]
  },
  {
   "cell_type": "code",
   "execution_count": 15,
   "metadata": {},
   "outputs": [
    {
     "name": "stdout",
     "output_type": "stream",
     "text": [
      "[[32  8  0]\n",
      " [16 41 14]\n",
      " [ 1 18 20]]\n",
      "                 precision    recall  f1-score   support\n",
      "\n",
      "  buyer-address       0.65      0.80      0.72        40\n",
      "non-addressline       0.61      0.58      0.59        71\n",
      " vendor-address       0.59      0.51      0.55        39\n",
      "\n",
      "       accuracy                           0.62       150\n",
      "      macro avg       0.62      0.63      0.62       150\n",
      "   weighted avg       0.62      0.62      0.62       150\n",
      "\n"
     ]
    },
    {
     "name": "stderr",
     "output_type": "stream",
     "text": [
      "/home/rita/anaconda3/lib/python3.7/site-packages/sklearn/model_selection/_search.py:814: DeprecationWarning: The default of the `iid` parameter will change from True to False in version 0.22 and will be removed in 0.24. This will change numeric results when test-set sizes are unequal.\n",
      "  DeprecationWarning)\n"
     ]
    }
   ],
   "source": [
    "rf_model = train_model('random_forest',X_train, y_train)\n",
    "print_classifaction_report(rf_model, X_test, y_test)\n",
    "save_model(rf_model, 'models/rfc_address_classifier.pkl')"
   ]
  },
  {
   "cell_type": "code",
   "execution_count": 14,
   "metadata": {},
   "outputs": [
    {
     "name": "stdout",
     "output_type": "stream",
     "text": [
      "[[34  5  1]\n",
      " [20 39 12]\n",
      " [ 6 17 16]]\n",
      "                 precision    recall  f1-score   support\n",
      "\n",
      "  buyer-address       0.57      0.85      0.68        40\n",
      "non-addressline       0.64      0.55      0.59        71\n",
      " vendor-address       0.55      0.41      0.47        39\n",
      "\n",
      "       accuracy                           0.59       150\n",
      "      macro avg       0.59      0.60      0.58       150\n",
      "   weighted avg       0.60      0.59      0.58       150\n",
      "\n"
     ]
    },
    {
     "name": "stderr",
     "output_type": "stream",
     "text": [
      "/home/rita/anaconda3/lib/python3.7/site-packages/sklearn/model_selection/_search.py:814: DeprecationWarning: The default of the `iid` parameter will change from True to False in version 0.22 and will be removed in 0.24. This will change numeric results when test-set sizes are unequal.\n",
      "  DeprecationWarning)\n"
     ]
    }
   ],
   "source": [
    "svc_model = train_model('svm',X_train, y_train)\n",
    "print_classifaction_report(rf_model, X_test, y_test)\n",
    "save_model(svc_model, 'models/svm_address_classifier.pkl')"
   ]
  },
  {
   "cell_type": "code",
   "execution_count": 31,
   "metadata": {},
   "outputs": [
    {
     "name": "stderr",
     "output_type": "stream",
     "text": [
      "/home/rita/anaconda3/lib/python3.7/site-packages/ipykernel_launcher.py:1: SettingWithCopyWarning: \n",
      "A value is trying to be set on a copy of a slice from a DataFrame.\n",
      "Try using .loc[row_indexer,col_indexer] = value instead\n",
      "\n",
      "See the caveats in the documentation: http://pandas.pydata.org/pandas-docs/stable/user_guide/indexing.html#returning-a-view-versus-a-copy\n",
      "  \"\"\"Entry point for launching an IPython kernel.\n"
     ]
    }
   ],
   "source": [
    "test_data['rfc_prediction'] = rfc_model.predict(test_data[imp_columns])"
   ]
  },
  {
   "cell_type": "code",
   "execution_count": 34,
   "metadata": {},
   "outputs": [
    {
     "data": {
      "text/html": [
       "<div>\n",
       "<style scoped>\n",
       "    .dataframe tbody tr th:only-of-type {\n",
       "        vertical-align: middle;\n",
       "    }\n",
       "\n",
       "    .dataframe tbody tr th {\n",
       "        vertical-align: top;\n",
       "    }\n",
       "\n",
       "    .dataframe thead th {\n",
       "        text-align: right;\n",
       "    }\n",
       "</style>\n",
       "<table border=\"1\" class=\"dataframe\">\n",
       "  <thead>\n",
       "    <tr style=\"text-align: right;\">\n",
       "      <th></th>\n",
       "      <th>text</th>\n",
       "      <th>line_id</th>\n",
       "      <th>target</th>\n",
       "      <th>rfc_prediction</th>\n",
       "    </tr>\n",
       "  </thead>\n",
       "  <tbody>\n",
       "    <tr>\n",
       "      <th>2</th>\n",
       "      <td>Mississippi 38860</td>\n",
       "      <td>3</td>\n",
       "      <td>vendor-address</td>\n",
       "      <td>non-addressline</td>\n",
       "    </tr>\n",
       "    <tr>\n",
       "      <th>3</th>\n",
       "      <td>www.nespack.com</td>\n",
       "      <td>8</td>\n",
       "      <td>non-addressline</td>\n",
       "      <td>buyer-address</td>\n",
       "    </tr>\n",
       "    <tr>\n",
       "      <th>3</th>\n",
       "      <td>GST Registration No. : 20-05029 1-4R Fox +65 6...</td>\n",
       "      <td>6</td>\n",
       "      <td>non-addressline</td>\n",
       "      <td>buyer-address</td>\n",
       "    </tr>\n",
       "    <tr>\n",
       "      <th>1</th>\n",
       "      <td>04742 Tel: 6124.0126 Facsimile: 414-9789 $15 S...</td>\n",
       "      <td>4</td>\n",
       "      <td>vendor-address</td>\n",
       "      <td>non-addressline</td>\n",
       "    </tr>\n",
       "    <tr>\n",
       "      <th>1</th>\n",
       "      <td>541 ORCHID ROAD #05-03 (MARINA BAY SANDS) ORIG...</td>\n",
       "      <td>2</td>\n",
       "      <td>buyer-address</td>\n",
       "      <td>vendor-address</td>\n",
       "    </tr>\n",
       "    <tr>\n",
       "      <th>8</th>\n",
       "      <td>İTEM DESCRIPTION QTY UNIT PRICE AMOUNT</td>\n",
       "      <td>10</td>\n",
       "      <td>non-addressline</td>\n",
       "      <td>buyer-address</td>\n",
       "    </tr>\n",
       "    <tr>\n",
       "      <th>1</th>\n",
       "      <td>44 Jalans Buraho, TAX INVOICE NO. 1730134SGP</td>\n",
       "      <td>4</td>\n",
       "      <td>vendor-address</td>\n",
       "      <td>non-addressline</td>\n",
       "    </tr>\n",
       "    <tr>\n",
       "      <th>3</th>\n",
       "      <td>WAVA Tower, California 658565 Tel :</td>\n",
       "      <td>4</td>\n",
       "      <td>vendor-address</td>\n",
       "      <td>non-addressline</td>\n",
       "    </tr>\n",
       "    <tr>\n",
       "      <th>1</th>\n",
       "      <td>1 WOODLAND LANE DELIVERY TO: NO. : 15392</td>\n",
       "      <td>2</td>\n",
       "      <td>buyer-address</td>\n",
       "      <td>vendor-address</td>\n",
       "    </tr>\n",
       "    <tr>\n",
       "      <th>4</th>\n",
       "      <td>www.auratot.com.sg Pages: 1</td>\n",
       "      <td>6</td>\n",
       "      <td>non-addressline</td>\n",
       "      <td>buyer-address</td>\n",
       "    </tr>\n",
       "  </tbody>\n",
       "</table>\n",
       "</div>"
      ],
      "text/plain": [
       "                                                text  line_id  \\\n",
       "2                                  Mississippi 38860        3   \n",
       "3                                    www.nespack.com        8   \n",
       "3  GST Registration No. : 20-05029 1-4R Fox +65 6...        6   \n",
       "1  04742 Tel: 6124.0126 Facsimile: 414-9789 $15 S...        4   \n",
       "1  541 ORCHID ROAD #05-03 (MARINA BAY SANDS) ORIG...        2   \n",
       "8             İTEM DESCRIPTION QTY UNIT PRICE AMOUNT       10   \n",
       "1       44 Jalans Buraho, TAX INVOICE NO. 1730134SGP        4   \n",
       "3                WAVA Tower, California 658565 Tel :        4   \n",
       "1           1 WOODLAND LANE DELIVERY TO: NO. : 15392        2   \n",
       "4                        www.auratot.com.sg Pages: 1        6   \n",
       "\n",
       "            target   rfc_prediction  \n",
       "2   vendor-address  non-addressline  \n",
       "3  non-addressline    buyer-address  \n",
       "3  non-addressline    buyer-address  \n",
       "1   vendor-address  non-addressline  \n",
       "1    buyer-address   vendor-address  \n",
       "8  non-addressline    buyer-address  \n",
       "1   vendor-address  non-addressline  \n",
       "3   vendor-address  non-addressline  \n",
       "1    buyer-address   vendor-address  \n",
       "4  non-addressline    buyer-address  "
      ]
     },
     "execution_count": 34,
     "metadata": {},
     "output_type": "execute_result"
    }
   ],
   "source": [
    "test_data.query(f'rfc_prediction != target')[['text','line_id', 'target', 'rfc_prediction']].head(10)"
   ]
  },
  {
   "cell_type": "markdown",
   "metadata": {},
   "source": [
    "## Observations\n",
    "\n",
    "1. The main case where the model seems to be failing is wrt partial-address lines.\n",
    "2. A potential approach to improve this model would be to add sorrounding text features to the address-bounding box.\n",
    "3. Augmenting this data is a bit challenging, but with a bit more time, it might be possible.\n",
    "4. There are 2 models above that I have experimented with, overall the RF seems to be better. How ever when you look at the recall, SVM does seem to be better wrt buyer address.\n",
    "5. overall I think we could improve the results of this classifier further, by adding a bit more data & a bit more feature engineering.\n",
    "6. Also, the other thing that we can try is if we have a model that can jointly learn(sharing weights) to detect address lines and also classify which address is which it might be quite interesting. (this is based on the observation that both classifiers are trying to model/capture different patterns, especially where we have partial-address lines.)"
   ]
  },
  {
   "cell_type": "code",
   "execution_count": null,
   "metadata": {},
   "outputs": [],
   "source": []
  }
 ],
 "metadata": {
  "kernelspec": {
   "display_name": "Python 3",
   "language": "python",
   "name": "python3"
  },
  "language_info": {
   "codemirror_mode": {
    "name": "ipython",
    "version": 3
   },
   "file_extension": ".py",
   "mimetype": "text/x-python",
   "name": "python",
   "nbconvert_exporter": "python",
   "pygments_lexer": "ipython3",
   "version": "3.7.4"
  }
 },
 "nbformat": 4,
 "nbformat_minor": 4
}
