{
 "cells": [
  {
   "cell_type": "code",
   "execution_count": 1,
   "metadata": {},
   "outputs": [
    {
     "name": "stderr",
     "output_type": "stream",
     "text": [
      "I0725 00:12:14.381648 139624267507520 file_utils.py:41] PyTorch version 1.5.0+cu101 available.\n",
      "I0725 00:12:15.131906 139624267507520 file_utils.py:57] TensorFlow version 2.2.0 available.\n"
     ]
    }
   ],
   "source": [
    "%matplotlib inline\n",
    "import spacy\n",
    "import random\n",
    "import pandas as pd\n",
    "import seaborn as sns\n",
    "import matplotlib.pyplot as plt\n",
    "\n",
    "from sklearn.utils import shuffle\n",
    "from src import AddresslineTagger\n",
    "from src import FeatureGeneration\n",
    "from src.utility import jsonl_reader"
   ]
  },
  {
   "cell_type": "code",
   "execution_count": 2,
   "metadata": {},
   "outputs": [],
   "source": [
    "dataset = jsonl_reader('dataset/sample_dataset.jsonl')"
   ]
  },
  {
   "cell_type": "code",
   "execution_count": 5,
   "metadata": {},
   "outputs": [
    {
     "name": "stderr",
     "output_type": "stream",
     "text": [
      "I0725 00:12:24.101343 139624267507520 utils.py:129] Note: NumExpr detected 12 cores but \"NUMEXPR_MAX_THREADS\" not set, so enforcing safe limit of 8.\n",
      "I0725 00:12:24.101797 139624267507520 utils.py:141] NumExpr defaulting to 8 threads.\n"
     ]
    },
    {
     "data": {
      "text/html": [
       "<div>\n",
       "<style scoped>\n",
       "    .dataframe tbody tr th:only-of-type {\n",
       "        vertical-align: middle;\n",
       "    }\n",
       "\n",
       "    .dataframe tbody tr th {\n",
       "        vertical-align: top;\n",
       "    }\n",
       "\n",
       "    .dataframe thead th {\n",
       "        text-align: right;\n",
       "    }\n",
       "</style>\n",
       "<table border=\"1\" class=\"dataframe\">\n",
       "  <thead>\n",
       "    <tr style=\"text-align: right;\">\n",
       "      <th></th>\n",
       "      <th>document_id</th>\n",
       "      <th>line_id</th>\n",
       "      <th>text</th>\n",
       "      <th>label</th>\n",
       "      <th>class_2_target</th>\n",
       "    </tr>\n",
       "    <tr>\n",
       "      <th>class_2_target</th>\n",
       "      <th></th>\n",
       "      <th></th>\n",
       "      <th></th>\n",
       "      <th></th>\n",
       "      <th></th>\n",
       "    </tr>\n",
       "  </thead>\n",
       "  <tbody>\n",
       "    <tr>\n",
       "      <th>addressline</th>\n",
       "      <td>105</td>\n",
       "      <td>53</td>\n",
       "      <td>486</td>\n",
       "      <td>3</td>\n",
       "      <td>1</td>\n",
       "    </tr>\n",
       "    <tr>\n",
       "      <th>non-addressline</th>\n",
       "      <td>105</td>\n",
       "      <td>61</td>\n",
       "      <td>3001</td>\n",
       "      <td>1</td>\n",
       "      <td>1</td>\n",
       "    </tr>\n",
       "  </tbody>\n",
       "</table>\n",
       "</div>"
      ],
      "text/plain": [
       "                 document_id  line_id  text  label  class_2_target\n",
       "class_2_target                                                    \n",
       "addressline              105       53   486      3               1\n",
       "non-addressline          105       61  3001      1               1"
      ]
     },
     "execution_count": 5,
     "metadata": {},
     "output_type": "execute_result"
    }
   ],
   "source": [
    "# threshold = 1 means we will try to search vendor and buyer address in the full document\n",
    "At = AddresslineTagger(dataset, threshold=1)\n",
    "data = At.result.drop_duplicates(subset=['text'])\n",
    "data.to_csv('dataset/supervised_dataset(full).csv', index = False)\n",
    "data[['document_id', 'line_id', 'text', 'label',\n",
    "       'class_2_target']].groupby('class_2_target').nunique()"
   ]
  },
  {
   "cell_type": "code",
   "execution_count": 6,
   "metadata": {},
   "outputs": [
    {
     "data": {
      "image/png": "[encoded data removed]",
      "text/plain": [
       "<Figure size 432x288 with 1 Axes>"
      ]
     },
     "metadata": {
      "needs_background": "light"
     },
     "output_type": "display_data"
    }
   ],
   "source": [
    "sns.countplot(data['class_2_target'],label=\"Count\")\n",
    "plt.show()"
   ]
  },
  {
   "cell_type": "markdown",
   "metadata": {},
   "source": [
    "### Observation:\n",
    "1. Above graph shows that data is highly imbalanced. But As we know that, most of the cases vendor name and buyer name is the top lines. Lets see if we tag the address lines from the top portion of the documents, we might reduce some address lines, but it helps us to balance the dataset.\n",
    "\n",
    "### Next Step:\n",
    "1. We will try to search vendor and buyer address in the top 40% of the document. So we will take the top 40% document as it is and if we find the address line is coming from the remaining portion then we will take only those additional addressline from the remaining sectionas well.\n",
    "\n",
    "2. Questions:\n",
    "    - Our goal here is to identify the given text has address or not? Above approch helps me to take all the address lines. But, Negative samples we are selecting from the top section of the document only which means Negative samples are baised.\n",
    "    - Now, In future when New document will come, If we will pass the full line-wise data to the classification what can happen? Model can fail for the lines which are coming from the bottom section because thats going to be completely unknown text for the model.\n",
    "    - In future, If we get document with new formats/templates, where address can be present at the bottom section of the document, then failure rate of addressline classification is going to be very high.\n",
    "    - Rather than picking up the negative samples from the top section can we try picking up 40% non-address lines randomly."
   ]
  },
  {
   "cell_type": "code",
   "execution_count": 7,
   "metadata": {},
   "outputs": [
    {
     "data": {
      "text/html": [
       "<div>\n",
       "<style scoped>\n",
       "    .dataframe tbody tr th:only-of-type {\n",
       "        vertical-align: middle;\n",
       "    }\n",
       "\n",
       "    .dataframe tbody tr th {\n",
       "        vertical-align: top;\n",
       "    }\n",
       "\n",
       "    .dataframe thead th {\n",
       "        text-align: right;\n",
       "    }\n",
       "</style>\n",
       "<table border=\"1\" class=\"dataframe\">\n",
       "  <thead>\n",
       "    <tr style=\"text-align: right;\">\n",
       "      <th></th>\n",
       "      <th>document_id</th>\n",
       "      <th>line_id</th>\n",
       "      <th>text</th>\n",
       "      <th>label</th>\n",
       "      <th>class_2_target</th>\n",
       "    </tr>\n",
       "    <tr>\n",
       "      <th>class_2_target</th>\n",
       "      <th></th>\n",
       "      <th></th>\n",
       "      <th></th>\n",
       "      <th></th>\n",
       "      <th></th>\n",
       "    </tr>\n",
       "  </thead>\n",
       "  <tbody>\n",
       "    <tr>\n",
       "      <th>addressline</th>\n",
       "      <td>105</td>\n",
       "      <td>53</td>\n",
       "      <td>489</td>\n",
       "      <td>3</td>\n",
       "      <td>1</td>\n",
       "    </tr>\n",
       "    <tr>\n",
       "      <th>non-addressline</th>\n",
       "      <td>105</td>\n",
       "      <td>57</td>\n",
       "      <td>1424</td>\n",
       "      <td>1</td>\n",
       "      <td>1</td>\n",
       "    </tr>\n",
       "  </tbody>\n",
       "</table>\n",
       "</div>"
      ],
      "text/plain": [
       "                 document_id  line_id  text  label  class_2_target\n",
       "class_2_target                                                    \n",
       "addressline              105       53   489      3               1\n",
       "non-addressline          105       57  1424      1               1"
      ]
     },
     "execution_count": 7,
     "metadata": {},
     "output_type": "execute_result"
    }
   ],
   "source": [
    "# threshold = 0.4 means, from the all the negative samples, we will choose the 40% negative sample.\n",
    "At = AddresslineTagger(dataset, threshold=0.40)\n",
    "filter_data = At.result.drop_duplicates(subset=['text'])\n",
    "filter_data.to_csv('dataset/supervised_dataset(pruned).csv', index = False) #save the dataset\n",
    "filter_data[['document_id', 'line_id', 'text', 'label',\n",
    "       'class_2_target']].groupby('class_2_target').nunique()"
   ]
  },
  {
   "cell_type": "code",
   "execution_count": 8,
   "metadata": {},
   "outputs": [
    {
     "data": {
      "image/png": "[encoded data removed]",
      "text/plain": [
       "<Figure size 432x288 with 1 Axes>"
      ]
     },
     "metadata": {
      "needs_background": "light"
     },
     "output_type": "display_data"
    }
   ],
   "source": [
    "sns.countplot(filter_data['class_2_target'],label=\"Count\")\n",
    "plt.show()"
   ]
  },
  {
   "cell_type": "markdown",
   "metadata": {},
   "source": [
    "so compared to the previous plot, as you see the data distrubution looks slightly better,not entirely balanced.but its much better"
   ]
  },
  {
   "cell_type": "code",
   "execution_count": null,
   "metadata": {},
   "outputs": [],
   "source": []
  }
 ],
 "metadata": {
  "kernelspec": {
   "display_name": "Python 3",
   "language": "python",
   "name": "python3"
  },
  "language_info": {
   "codemirror_mode": {
    "name": "ipython",
    "version": 3
   },
   "file_extension": ".py",
   "mimetype": "text/x-python",
   "name": "python",
   "nbconvert_exporter": "python",
   "pygments_lexer": "ipython3",
   "version": "3.7.4"
  }
 },
 "nbformat": 4,
 "nbformat_minor": 4
}
