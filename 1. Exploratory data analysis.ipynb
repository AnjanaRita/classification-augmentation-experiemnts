{
 "cells": [
  {
   "cell_type": "markdown",
   "metadata": {},
   "source": [
    "# Problem Statement:\n",
    "## 1. Given a new document - you have to classify it as an addressline or non-addressline."
   ]
  },
  {
   "cell_type": "code",
   "execution_count": 1,
   "metadata": {},
   "outputs": [
    {
     "name": "stderr",
     "output_type": "stream",
     "text": [
      "I0725 16:27:15.942118 140005237073728 file_utils.py:41] PyTorch version 1.5.0+cu101 available.\n",
      "I0725 16:27:16.759424 140005237073728 file_utils.py:57] TensorFlow version 2.2.0 available.\n"
     ]
    }
   ],
   "source": [
    "from src import DataStats\n",
    "from pprint import pprint\n",
    "from src import check_repeated_data\n",
    "from src.utility import jsonl_reader\n",
    "from src.utility import inspection_full_matching\n",
    "from src.utility import inspection_partial_matching"
   ]
  },
  {
   "cell_type": "code",
   "execution_count": 2,
   "metadata": {},
   "outputs": [],
   "source": [
    "dataset = jsonl_reader('dataset/sample_dataset.jsonl')"
   ]
  },
  {
   "cell_type": "markdown",
   "metadata": {},
   "source": [
    "from an initial observation of the dataset, it appears that the groundtruth is not a groundtruth/labeled data in a traditional sense. its more like this dataset has these two addresses.(we dont necessairly have its spans)\n",
    "\n",
    "Hence, the main objective of this notebook is to do some data exploration and eventually I will be creating a labeled dataset for my further modelling experiments, based on these observations."
   ]
  },
  {
   "cell_type": "code",
   "execution_count": 3,
   "metadata": {},
   "outputs": [
    {
     "name": "stdout",
     "output_type": "stream",
     "text": [
      "Number of the documents where both entities are present: 3/105\n",
      "Number of the documents where at least one are present: 29/105\n",
      "Number of the documents where vendor address are present: 25/105\n",
      "Number of the documents where buyer address are present: 7/105\n"
     ]
    }
   ],
   "source": [
    "Z = DataStats(dataset)\n",
    "Z.stats\n",
    "#some stats on our dataset:"
   ]
  },
  {
   "cell_type": "code",
   "execution_count": 4,
   "metadata": {},
   "outputs": [
    {
     "name": "stdout",
     "output_type": "stream",
     "text": [
      "{'buyer_address': {'region': {'x1': 55, 'x2': 632, 'y1': 473, 'y2': 535},\n",
      "                   'text': '26 Theres South Rd CaliFornia'},\n",
      " 'vendor_address': {'region': {'x1': 44, 'x2': 944, 'y1': 198, 'y2': 239},\n",
      "                    'text': '6t76et Kaduty Loop, #5-00,caliFomia 526974'}}\n",
      "\n",
      "['Koss TRADING PVT LTD iho 8431 TAX INVOICE lor(1',\n",
      " 'Tax Invoice No: 2020926 3059219/',\n",
      " '6t6et Kaduty Loop, #5-00,califomia 526974 Date 21.06.15 Avócél :11.36-1.30',\n",
      " 'Tel: 12975 0198 Fax: 1297569 0266 A/C No 2SE0071 WIT',\n",
      " 'UEN: 198502422N']\n"
     ]
    }
   ],
   "source": [
    "# let's check where the ground truth is not there\n",
    "\n",
    "#Example_1\n",
    "gt_not_found = Z.not_found\n",
    "document = gt_not_found[0]\n",
    "inspection_full_matching(document)\n",
    "#printing the given groundtruth & the corresponding matchs found in the document."
   ]
  },
  {
   "cell_type": "code",
   "execution_count": 5,
   "metadata": {},
   "outputs": [
    {
     "name": "stdout",
     "output_type": "stream",
     "text": [
      "{'buyer_address': {'region': {'x1': 147, 'x2': 408, 'y1': 794, 'y2': 853},\n",
      "                   'text': '8 Marina View Caliofornia 93301'},\n",
      " 'vendor_address': {'region': {'x1': 866, 'x2': 1513, 'y1': 3249, 'y2': 3333},\n",
      "                    'text': '4461 Cordova Street\\n'\n",
      "                            'Vancouver, British Columbia, V6B 1E1'}}\n",
      "\n",
      "['8 Marina View GST Reg NO: 2016138210',\n",
      " '#34-01 Goodwin PCG Pte Ltd',\n",
      " '93301',\n",
      " 'California',\n",
      " 'TRAINING DETAILS']\n"
     ]
    }
   ],
   "source": [
    "#Example_2\n",
    "inspection_full_matching(gt_not_founds[10], n=7)"
   ]
  },
  {
   "cell_type": "code",
   "execution_count": 6,
   "metadata": {},
   "outputs": [
    {
     "name": "stdout",
     "output_type": "stream",
     "text": [
      "{'buyer_address': {'region': {'x1': 420, 'x2': 810, 'y1': 347, 'y2': 456},\n",
      "                   'text': 'Tellas South Road\\nCalifornia 560 1327'},\n",
      " 'vendor_address': {'region': {'x1': 815, 'x2': 1697, 'y1': 3249, 'y2': 3317},\n",
      "                    'text': '20 ANGMIOLA INDIC INDUSTRIAL PARK 2A #05-09 RMC '\n",
      "                            'TECHLINK \\n'\n",
      "                            'CALIFORNIA 567761'}}\n",
      "['TAX INVOICE',\n",
      " 'No.: T11512/19',\n",
      " 'Date : 29-12-15',\n",
      " 'TO: FANNY Chemistry',\n",
      " 'Tellas South Road',\n",
      " 'California 560 1327',\n",
      " 'GST Reg. No:',\n",
      " '5303 1 1930',\n",
      " 'GST REG. NO: 20-0306066H',\n",
      " 'Attn: Finance Department Sales Person: Linda',\n",
      " 'Terms: Final',\n",
      " 'Tel: 6861 1773 Fax: 6862 3327',\n",
      " 'S/N DESCRIPTION CLAIM % QUANTITY UNIT RATE AMOUNT S$',\n",
      " 'Project: Production & Warehouse Floor @ 26 Tuas West Rd Singapore 638382',\n",
      " 'As per confirmation on your PO No.53610479-000 OM dated 06.07.2015',\n",
      " '1) Vector High Performance Floor. 100% 1 lot $ 101,871.59 $ 101,871.59',\n",
      " 'Coating at Prod & W. House',\n",
      " 'Original Order: 53620378 OR',\n",
      " 'Less Previous Down Payment as per $ (40,748.64)',\n",
      " 'our Inv No: T11507/13 dated 27.07.15',\n",
      " 'PRICE CHEC ED Du ber',\n",
      " 'A/C CODE BMOUNT',\n",
      " 'DR Ск',\n",
      " 'C',\n",
      " 'V',\n",
      " 'Sub-total $ 61,122.95',\n",
      " 'GST @ 7% $ 4,278.61',\n",
      " 'Total Amount $ 65,401.56',\n",
      " 'ents Fifty-Six Only.',\n",
      " 'E.& O.E. Shernet',\n",
      " \"Cheque should be crossed 'A/C Payee Only' and Shui VECTOR NATIONAL PVT LTD\",\n",
      " 'made payable to \"VECTOR NATIONAL PVT',\n",
      " 'billedelse@cccb%tser pronth wilge charged an ART',\n",
      " 'RECEIVE fypoceeded - 0 JAN 2018 19.',\n",
      " 'BY... USB - فيها',\n",
      " 'NATIONAL PVT. LTDA le',\n",
      " '20 ANG MORA 88-FRRIE TECHPA98H',\n",
      " 'CALIFORNIA 567761',\n",
      " 'Tel: (65) 6482 3133 Fax: (65) 6482 5225 Website: www.viacor-service.com '\n",
      " 'Email: info@viacor.sg']\n"
     ]
    }
   ],
   "source": [
    "#Example_3\n",
    "document = dataset[86]\n",
    "pprint(document['ground_truth'])\n",
    "pprint([i['text'] for i in document['document']])"
   ]
  },
  {
   "cell_type": "markdown",
   "metadata": {},
   "source": [
    "### Some Initial Observations:\n",
    "- Ground truth is not excatly present in to the dataset.\n",
    "- Example_1 ***(Easy to tackle)*** shows that One possible reason is OCR error. If OCR is failing(it can be a case where single character is failing) then also we are not able to find the exact string. In above example, ground truth contains **6t76et Kaduty Loop, \\#5-00,caliFomia 526974** where the document contains **6t6et Kaduty Loop, #5-00,califomia 526974 Date 21.06.15 Avócél :11.36-1.30**. Here only first token is not matching.\n",
    "- Example_2 ***(Bit complex scenario)*** shows that ground truth data is coming from the multiple lines. And It also shows that Address lines are not continues in document object. For example, This is given as buyer name, **8 Marina View Caliofornia 93301** but in actual document it is present in multiple line, as shown below:\n",
    "    1. 8 Marina View GST Reg NO: 2016138210\n",
    "    2. #34-01 Goodwin PCG Pte Ltd\n",
    "    3. 93301\n",
    "    4. California\n",
    "    5. TRAINING DETAILS \n",
    "- Example_3 **(Bit wierd)** Ground truth is almost non-existent. Ground truth data is **20 ANGMIOLA INDIC INDUSTRIAL PARK 2A #05-09 RMC** where After ocr we have **20 ANG MORA 88-FRRIE TECHPA98H**. Mostly any sort of string matching algorithms will fail here.\n",
    "    \n",
    "### What Next?\n",
    "- We can try to see a bit more of the string matching. \n",
    "- Given dataset contains bounding box information as well. lets see if thats any useful."
   ]
  },
  {
   "cell_type": "code",
   "execution_count": 7,
   "metadata": {},
   "outputs": [],
   "source": [
    "Z1 = DataStats(dataset, 'partial-match')"
   ]
  },
  {
   "cell_type": "code",
   "execution_count": 8,
   "metadata": {},
   "outputs": [
    {
     "name": "stdout",
     "output_type": "stream",
     "text": [
      "Number of the documents where both entities are present: 105/105\n",
      "Number of the documents where at least one are present: 105/105\n",
      "Number of the documents where vendor address are present: 105/105\n",
      "Number of the documents where buyer address are present: 105/105\n",
      "Number of the documents where multi line vendor addresses are present: 55/105\n",
      "Number of the documents where multi line buyer addresses are present: 93/105\n"
     ]
    }
   ],
   "source": [
    "Z1.stats"
   ]
  },
  {
   "cell_type": "code",
   "execution_count": 9,
   "metadata": {},
   "outputs": [
    {
     "name": "stdout",
     "output_type": "stream",
     "text": [
      "vendor_address\n",
      "Ground Truth: 4461 Cordova Street\n",
      "Vancouver, British Columbia, V6B 1E1\n",
      "\n",
      "Actual Present Text: Bank Address : 4461 Cordova Street, Vancouver, British\n",
      "Account Number : Columbia, V6B 1E1, 60-46031-44591\n",
      "4461 Cordova Street\n",
      "Vancouver, British Columbia, V6B 151\n",
      "**********\n",
      "buyer_address\n",
      "Ground Truth: 8 Marina View Caliofornia 93301\n",
      "\n",
      "Actual Present Text: 8 Marina View GST Reg NO: 2016138210\n",
      "93301\n",
      "California\n",
      "**********\n"
     ]
    }
   ],
   "source": [
    "#Example_4\n",
    "document = gt_not_found[10]\n",
    "lines = [i['text'] for i in  document['document']]\n",
    "inspection_partial_matching(document)"
   ]
  },
  {
   "cell_type": "code",
   "execution_count": 10,
   "metadata": {},
   "outputs": [
    {
     "name": "stdout",
     "output_type": "stream",
     "text": [
      "vendor_address\n",
      "Ground Truth: 940 Nancy Street #27N, NC Buildıng North Carolina\n",
      "\n",
      "Actual Present Text: 940 Nancy Street #27N, NC Building North Carolina 27530 Tel: +65 52589 6144 Fax: +65 7820 4311\n",
      "4940 Nancy Street The Federal Banking Corporation Ltd NC Branch\n",
      "#27N, NC Building 2470 Nancy Street\n",
      "84 North Carolina 27537\n",
      "office: 8C 4940 Nancy Street #27N, NC Building North Carolina 27530 Registration No.: 199782100D\n",
      "**********\n",
      "buyer_address\n",
      "Ground Truth: 4290 Victoria Court\n",
      "Fort Fairfield\n",
      "Maine 04742\n",
      "\n",
      "Actual Present Text: 4290 Vic ria Court DATE OF INVOICE 21-Feb-17\n",
      "Fort Fairfield\n",
      "Maine 04742 ACCOUNT DETAILS\n",
      "**********\n"
     ]
    }
   ],
   "source": [
    "#Example_5\n",
    "document = gt_not_found[2]\n",
    "lines = [i['text'] for i in  document['document']]\n",
    "inspection_partial_matching(document)"
   ]
  },
  {
   "cell_type": "code",
   "execution_count": 11,
   "metadata": {},
   "outputs": [
    {
     "name": "stdout",
     "output_type": "stream",
     "text": [
      "vendor_address\n",
      "Ground Truth: 32 eper Pay Cedar Rd #07\n",
      "02A Da Jin Factory Buidlding California Singapore 520136\n",
      "\n",
      "Actual Present Text: California 039780\n",
      "32 Pec per Pay Ledar Ad #07. LO2A Da Jin Factory Building California ingapore 520136 . Tel: 6281 7520, Fax: 6284 1259, Email: sales@pypemedia.com.sg\n",
      "**********\n",
      "buyer_address\n",
      "Ground Truth: Oke Temarsek Avenue\n",
      "21st Floor Millenial Tower\n",
      "California 039780\n",
      "\n",
      "Actual Present Text: Oke Temarsek Avenue\n",
      "21st Floor Millenial Tower\n",
      "California 039780\n",
      "32 Pec per Pay Ledar Ad #07. LO2A Da Jin Factory Building California ingapore 520136 . Tel: 6281 7520, Fax: 6284 1259, Email: sales@pypemedia.com.sg\n",
      "**********\n"
     ]
    }
   ],
   "source": [
    "#Example_6\n",
    "document = gt_not_found[21]\n",
    "lines = [i['text'] for i in  document['document']]\n",
    "inspection_partial_matching(document)"
   ]
  },
  {
   "cell_type": "code",
   "execution_count": 12,
   "metadata": {},
   "outputs": [
    {
     "data": {
      "text/plain": [
       "{'buyer_address': {'text': '4290 Victoria Court\\nFort FairfieLd\\nMaine 04742',\n",
       "  'region': {'x1': 311, 'y1': 866, 'x2': 646, 'y2': 995}},\n",
       " 'vendor_address': {'text': 'Farrell+Gould Project Pvt Ltd\\n4940 Nancy Street\\n#27N, NC Building\\nNorth Carolina 27530',\n",
       "  'region': {'x1': 314, 'y1': 2640, 'x2': 772, 'y2': 2812}}}"
      ]
     },
     "execution_count": 12,
     "metadata": {},
     "output_type": "execute_result"
    }
   ],
   "source": [
    "#Example_7\n",
    "document = dataset[10]\n",
    "lines = [i['text'] for i in  document['document']]\n",
    "document['ground_truth']"
   ]
  },
  {
   "cell_type": "code",
   "execution_count": 19,
   "metadata": {},
   "outputs": [
    {
     "name": "stdout",
     "output_type": "stream",
     "text": [
      "Buyer address is reapting: 69/105\n",
      "Vendor address is reapting: 58/105\n",
      "Vendor and Buyer address are reapting: 46/105\n"
     ]
    }
   ],
   "source": [
    "# Lets check if the  ground truth is repeating \n",
    "both_address_reapting = check_repeated_data(dataset)\n",
    "buyer_address_reapting = check_repeated_data(dataset, ['buyer_address'])\n",
    "vendor_addree_reapting = check_repeated_data(dataset, ['vendor_address'])\n",
    "\n",
    "print(f'Buyer address is reapting: {len(buyer_address_reapting)}/{len(dataset)}')\n",
    "print(f'Vendor address is reapting: {len(vendor_addree_reapting)}/{len(dataset)}')\n",
    "print(f'Vendor and Buyer address are reapting: {len(both_address_reapting)}/{len(dataset)}')"
   ]
  },
  {
   "cell_type": "markdown",
   "metadata": {},
   "source": [
    "### Data Observation:\n",
    "1. In Example_4 and Example_5, vendor address is reapting multiple times in the Actual dataset.\n",
    "2. One more interesting Scenario (Example_6), where we have mutliple line matching, partial data from the ground truth **California 039780** is matching with **32 Pec per Pay Ledar Ad #07. LO2A Da Jin Factory Building California ingapore 520136 . Tel: 6281 7520, Fax: 6284 1259, Email: sales@pypemedia.com.sg**.\n",
    "3. In previous senario, we can see only one token is partially matching with actual line but that line contains the address. ideally If we are doing **Address** vs **Non-Address** classification, then ground truth data shold contain this line **32 Pec per Pay Ledar Ad #07. LO2A Da Jin Factory Building California ingapore 520136 . Tel: 6281 7520, Fax: 6284 1259, Email: sales@pypemedia.com.sg** also into the ground truth.\n",
    "4. In Example_7, ground truth data, where vendor address **'Farrell+Gould Project Pvt Ltd\\n4940 Nancy Street\\n#27N, NC Building\\nNorth Carolina 27530** contains the Organization data.\n",
    "5. I have the text data coming from invoices. And Invoice is coming from the same vendor, means the actual data/format is  same (**Mostly**). Here, out of total 105 invoices, 58 docs are repeating which tells that we have data from the roughly 47 different types of the invoice.\n",
    "6. 46 times vendor and buyer addresses are reapting which means at a text level data, we have very **less variance**.\n",
    "\n",
    "\n",
    "### Overall Problem Observation:\n",
    "1. Example_6 shows us that there is address in document which is neither vendor address nor buyer address. What if we try to first build address classifation/address identification which helps to identifiy all the address from the document and then further process it.\n",
    "2. Once we identify the line which contains the address, We need to focus on address extraction. For example, Example_4, `office: 8C 4940 Nancy Street #27N, NC Building North Carolina 27530 Registration No.: 199782100D` line contains address but it also contains some sort of non-address tokens.\n",
    "3. As we seen in previous examples, ground truth data is actully present either in one line or in multiple lines. As such,  it kinda makes sense to convert 2-class classification(**addressline vs non-addressline**) into a 3-class classification(**full-addressline vs partial-addressline vs non-addressline**)? Adding this additional class might helps us for our further task of identifying the buyer & vendor.(reframing the actual problem like this might be useful, because later  when we actually want to parse out the address, if we have identified the line s partial, it tells us that there are a lot of junk tokens that need to be cleaned up vs a full-line where mostly we do not need to do any clean-up) \n",
    "\n",
    "### What Next:\n",
    "1. Create 2-class classification(**addressline vs non-addressline**) and 3-class classification(**full-addressline vs partial-addresslines vs non-addresslines**) dataset. "
   ]
  }
 ],
 "metadata": {
  "kernelspec": {
   "display_name": "Python 3",
   "language": "python",
   "name": "python3"
  },
  "language_info": {
   "codemirror_mode": {
    "name": "ipython",
    "version": 3
   },
   "file_extension": ".py",
   "mimetype": "text/x-python",
   "name": "python",
   "nbconvert_exporter": "python",
   "pygments_lexer": "ipython3",
   "version": "3.7.4"
  }
 },
 "nbformat": 4,
 "nbformat_minor": 4
}
