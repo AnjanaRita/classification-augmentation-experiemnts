{
 "cells": [
  {
   "cell_type": "markdown",
   "metadata": {},
   "source": [
    "#### To overcome from the UNDERFITTING:\n",
    "- Our main target here is to generate dataset which help us to reduce the false negative.\n",
    "- When I analyse the dataset, I find that there are some specific data where the model is failing. I try to generate the dataset for those particular cases so we can try to see if model improves or not."
   ]
  },
  {
   "cell_type": "code",
   "execution_count": 6,
   "metadata": {},
   "outputs": [],
   "source": [
    "import spacy\n",
    "import pandas as pd\n",
    "import seaborn as sns\n",
    "import matplotlib.pyplot as plt\n",
    "\n",
    "\n",
    "from sklearn.utils import shuffle\n",
    "from src import FeatureGeneration\n",
    "from src.trainer import train_model\n",
    "from sklearn.model_selection import train_test_split\n",
    "from src.utility import print_classifaction_report, save_model\n",
    "from src.data_augmentation import DataGeneration"
   ]
  },
  {
   "cell_type": "code",
   "execution_count": 7,
   "metadata": {},
   "outputs": [],
   "source": [
    "nlp = spacy.load('en_core_web_sm')\n",
    "dataset = pd.read_csv('dataset/supervised_dataset(pruned).csv')"
   ]
  },
  {
   "cell_type": "code",
   "execution_count": 8,
   "metadata": {},
   "outputs": [
    {
     "data": {
      "text/plain": [
       "Index(['document_id', 'line_id', 'text', 'word_bbox', 'label',\n",
       "       'class_2_target', 'class_3_target'],\n",
       "      dtype='object')"
      ]
     },
     "execution_count": 8,
     "metadata": {},
     "output_type": "execute_result"
    }
   ],
   "source": [
    "dataset.columns"
   ]
  },
  {
   "cell_type": "markdown",
   "metadata": {},
   "source": [
    "## Data augmentation via Synthetic data generation\n",
    "\n",
    "Using Faker, NlpAug & some PMI based data we will create a bunch of templates which resemble the examples in our real data and generate some synthetic examples, which we further use to retrain our models."
   ]
  },
  {
   "cell_type": "code",
   "execution_count": 9,
   "metadata": {},
   "outputs": [],
   "source": [
    "# SYNTHETIC DATA TEMPLATES\n",
    "\n",
    "template_1 = ('{CITY_NAME} {DATE}','partial-addressline')\n",
    "template_2 = ('{RANDOM_WORDS} {ADDRESS}','partial-addressline')\n",
    "template_3 = ('{STREET_ADDRESS} {STREET_ADDRESS}','partial-addressline')\n",
    "template_4 = ('{STREET_ADDRESS} {DATE} {COMPANY_NAME}','partial-addressline')\n",
    "template_5 = ('{BUILDING_NUMBER} {STREET_NAME} {CAPITAL_WORDS}','partial-addressline')\n",
    "template_6 = ('{CITY_NAME} {POSTAL_NUMBER}' , 'partial-addressline')\n",
    "template_7 = ('{BUILDING_NUMBER} {STREET_NAME} {CAPITAL_WORDS} {DATE}','partial-addressline')\n",
    "template_8 = ('{STREET_ADDRESS} {DATE} {CAPITAL_WORDS} {COMPANY_NAME}', 'partial-addressline')\n",
    "template_9 = ('{CAPITAL_WORDS} {COMPANY_NAME} {BUILDING_NUMBER} {STREET_NAME}','partial-addressline')\n",
    "\n",
    "#important features (as i described in previous notebook)\n",
    "imp_columns = ['avg_token_length', 'more_then_avg', 'alpha_count',\n",
    "               'stop_word_count', 'punct_count', 'digit_count', 'alpha_num_count',\n",
    "               'number_of_title_tokens', 'not_alphabet_count', 'number_of_tokens',\n",
    "               'dolar_count','address_key_words','noun_count','upper_case']\n",
    "\n",
    "templates = [template_1, template_2, template_4, template_5, template_6, template_7,\n",
    "             template_3, template_8]"
   ]
  },
  {
   "cell_type": "code",
   "execution_count": 10,
   "metadata": {},
   "outputs": [],
   "source": [
    "Data = DataGeneration(templates, 500)\n",
    "augmented_dataset = Data.data"
   ]
  },
  {
   "cell_type": "code",
   "execution_count": 12,
   "metadata": {},
   "outputs": [
    {
     "data": {
      "text/html": [
       "<div>\n",
       "<style scoped>\n",
       "    .dataframe tbody tr th:only-of-type {\n",
       "        vertical-align: middle;\n",
       "    }\n",
       "\n",
       "    .dataframe tbody tr th {\n",
       "        vertical-align: top;\n",
       "    }\n",
       "\n",
       "    .dataframe thead th {\n",
       "        text-align: right;\n",
       "    }\n",
       "</style>\n",
       "<table border=\"1\" class=\"dataframe\">\n",
       "  <thead>\n",
       "    <tr style=\"text-align: right;\">\n",
       "      <th></th>\n",
       "      <th>text</th>\n",
       "      <th>class_2_target</th>\n",
       "      <th>class_3_target</th>\n",
       "      <th>label</th>\n",
       "      <th>line_id</th>\n",
       "      <th>word_bbox</th>\n",
       "      <th>document_id</th>\n",
       "    </tr>\n",
       "  </thead>\n",
       "  <tbody>\n",
       "    <tr>\n",
       "      <th>0</th>\n",
       "      <td>5605 Gampbel1 Ridges Apt . 587 5605 Camp6el1 R...</td>\n",
       "      <td>addressline</td>\n",
       "      <td>partial-addressline</td>\n",
       "      <td>None</td>\n",
       "      <td>None</td>\n",
       "      <td>None</td>\n",
       "      <td>None</td>\n",
       "    </tr>\n",
       "    <tr>\n",
       "      <th>1</th>\n",
       "      <td>641 Adam Harbor 0ate - 12 13 92 Number Henky -...</td>\n",
       "      <td>addressline</td>\n",
       "      <td>partial-addressline</td>\n",
       "      <td>None</td>\n",
       "      <td>None</td>\n",
       "      <td>None</td>\n",
       "      <td>None</td>\n",
       "    </tr>\n",
       "    <tr>\n",
       "      <th>2</th>\n",
       "      <td>80913 Cody Green Court DATB OF 2000 / 1b / April</td>\n",
       "      <td>addressline</td>\n",
       "      <td>partial-addressline</td>\n",
       "      <td>None</td>\n",
       "      <td>None</td>\n",
       "      <td>None</td>\n",
       "      <td>None</td>\n",
       "    </tr>\n",
       "    <tr>\n",
       "      <th>3</th>\n",
       "      <td>w i t h i n 05010 Nicholas Turnpike\\nAmandamou...</td>\n",
       "      <td>addressline</td>\n",
       "      <td>partial-addressline</td>\n",
       "      <td>None</td>\n",
       "      <td>None</td>\n",
       "      <td>None</td>\n",
       "      <td>None</td>\n",
       "    </tr>\n",
       "    <tr>\n",
       "      <th>4</th>\n",
       "      <td>3457 Joel Pass 3457 Joel Pass</td>\n",
       "      <td>addressline</td>\n",
       "      <td>partial-addressline</td>\n",
       "      <td>None</td>\n",
       "      <td>None</td>\n",
       "      <td>None</td>\n",
       "      <td>None</td>\n",
       "    </tr>\n",
       "  </tbody>\n",
       "</table>\n",
       "</div>"
      ],
      "text/plain": [
       "                                                text class_2_target  \\\n",
       "0  5605 Gampbel1 Ridges Apt . 587 5605 Camp6el1 R...    addressline   \n",
       "1  641 Adam Harbor 0ate - 12 13 92 Number Henky -...    addressline   \n",
       "2   80913 Cody Green Court DATB OF 2000 / 1b / April    addressline   \n",
       "3  w i t h i n 05010 Nicholas Turnpike\\nAmandamou...    addressline   \n",
       "4                      3457 Joel Pass 3457 Joel Pass    addressline   \n",
       "\n",
       "        class_3_target label line_id word_bbox document_id  \n",
       "0  partial-addressline  None    None      None        None  \n",
       "1  partial-addressline  None    None      None        None  \n",
       "2  partial-addressline  None    None      None        None  \n",
       "3  partial-addressline  None    None      None        None  \n",
       "4  partial-addressline  None    None      None        None  "
      ]
     },
     "execution_count": 12,
     "metadata": {},
     "output_type": "execute_result"
    }
   ],
   "source": [
    "# here are some fake data examples that we just created, \n",
    "#these are very similar to the real address lines that we have in our real dataset\n",
    "augmented_dataset.head()"
   ]
  },
  {
   "cell_type": "code",
   "execution_count": 15,
   "metadata": {},
   "outputs": [],
   "source": [
    "augmented_dataset = formating(augmented_dataset)"
   ]
  },
  {
   "cell_type": "code",
   "execution_count": 16,
   "metadata": {},
   "outputs": [
    {
     "name": "stderr",
     "output_type": "stream",
     "text": [
      "/home/rita/anaconda3/lib/python3.7/site-packages/ipykernel_launcher.py:1: FutureWarning: Sorting because non-concatenation axis is not aligned. A future version\n",
      "of pandas will change to not sort by default.\n",
      "\n",
      "To accept the future behavior, pass 'sort=False'.\n",
      "\n",
      "To retain the current behavior and silence the warning, pass 'sort=True'.\n",
      "\n",
      "  \"\"\"Entry point for launching an IPython kernel.\n"
     ]
    }
   ],
   "source": [
    "aug_dataset = pd.concat([dataset, augmented_dataset])"
   ]
  },
  {
   "cell_type": "markdown",
   "metadata": {},
   "source": [
    "### And now lets get back to models again!\n",
    "\n",
    "note: I'm using the same test samples from my previous notebook without augmentation so that we can compare the results without  any bias."
   ]
  },
  {
   "cell_type": "code",
   "execution_count": 43,
   "metadata": {},
   "outputs": [],
   "source": [
    "### Lets take the original_data as test dataset:\n",
    "original_data = FeatureGeneration(dataset).transform\n",
    "original_data = original_data.merge(dataset,  on=['text']).drop_duplicates(subset=['text'])\n",
    "\n",
    "original_data = shuffle(original_data, random_state=24)\n",
    "train_data_org, test_data_org = train_test_split(original_data, random_state = 56)\n",
    "X_train_org, y_train_org = train_data_org[imp_columns], train_data_org['class_2_target']\n",
    "X_test_org, y_test_org = test_data_org[imp_columns], test_data_org['class_2_target']"
   ]
  },
  {
   "cell_type": "code",
   "execution_count": 30,
   "metadata": {},
   "outputs": [],
   "source": [
    "feature_dataset_aug = FeatureGeneration(aug_dataset).transform\n",
    "feature_dataset_aug = feature_dataset_aug.merge(aug_dataset,  on=['text']).drop_duplicates(subset=['text'])"
   ]
  },
  {
   "cell_type": "markdown",
   "metadata": {},
   "source": [
    "# Data distributions: \n",
    "\n",
    "1. plot 1: After augmentation, quite less imbalanced now.\n",
    "2. plot 2: original data distribution."
   ]
  },
  {
   "cell_type": "code",
   "execution_count": 31,
   "metadata": {},
   "outputs": [
    {
     "data": {
      "image/png": "[encoded data removed]",
      "text/plain": [
       "<Figure size 432x288 with 1 Axes>"
      ]
     },
     "metadata": {
      "needs_background": "light"
     },
     "output_type": "display_data"
    }
   ],
   "source": [
    "sns.countplot(feature_dataset_aug['class_2_target'],label=\"Count\")\n",
    "plt.show()"
   ]
  },
  {
   "cell_type": "code",
   "execution_count": 33,
   "metadata": {},
   "outputs": [
    {
     "data": {
      "image/png": "[encoded data removed]",
      "text/plain": [
       "<Figure size 432x288 with 1 Axes>"
      ]
     },
     "metadata": {
      "needs_background": "light"
     },
     "output_type": "display_data"
    }
   ],
   "source": [
    "sns.countplot(original_data['class_2_target'],label=\"Count\")\n",
    "plt.show()"
   ]
  },
  {
   "cell_type": "code",
   "execution_count": 35,
   "metadata": {},
   "outputs": [],
   "source": [
    "feature_dataset_aug = shuffle(feature_dataset_aug, random_state=24)\n",
    "train_data, test_data = train_test_split(feature_dataset_aug, random_state = 56)\n",
    "X_train, y_train = train_data[imp_columns], train_data['class_2_target']\n",
    "X_test, y_test = test_data[imp_columns], test_data['class_2_target']"
   ]
  },
  {
   "cell_type": "code",
   "execution_count": 36,
   "metadata": {},
   "outputs": [
    {
     "name": "stdout",
     "output_type": "stream",
     "text": [
      "[[ 85  51]\n",
      " [ 47 296]]\n",
      "                 precision    recall  f1-score   support\n",
      "\n",
      "    addressline       0.64      0.62      0.63       136\n",
      "non-addressline       0.85      0.86      0.86       343\n",
      "\n",
      "       accuracy                           0.80       479\n",
      "      macro avg       0.75      0.74      0.75       479\n",
      "   weighted avg       0.79      0.80      0.79       479\n",
      "\n",
      "Train dataset\n",
      "\n",
      "[[552 200]\n",
      " [130 927]]\n",
      "                 precision    recall  f1-score   support\n",
      "\n",
      "    addressline       0.81      0.73      0.77       752\n",
      "non-addressline       0.82      0.88      0.85      1057\n",
      "\n",
      "       accuracy                           0.82      1809\n",
      "      macro avg       0.82      0.81      0.81      1809\n",
      "   weighted avg       0.82      0.82      0.82      1809\n",
      "\n"
     ]
    }
   ],
   "source": [
    "rf_model = train_model('random_forest',X_train, y_train)\n",
    "print_classifaction_report(rf_model, X_test_org, y_test_org)\n",
    "print('Train dataset\\n')\n",
    "print_classifaction_report(rf_model, X_train, y_train)"
   ]
  },
  {
   "cell_type": "code",
   "execution_count": 52,
   "metadata": {},
   "outputs": [
    {
     "name": "stdout",
     "output_type": "stream",
     "text": [
      "[[102  34]\n",
      " [ 41 302]]\n",
      "                 precision    recall  f1-score   support\n",
      "\n",
      "    addressline       0.71      0.75      0.73       136\n",
      "non-addressline       0.90      0.88      0.89       343\n",
      "\n",
      "       accuracy                           0.84       479\n",
      "      macro avg       0.81      0.82      0.81       479\n",
      "   weighted avg       0.85      0.84      0.84       479\n",
      "\n",
      "Train dataset\n",
      "\n",
      "[[627 125]\n",
      " [ 93 964]]\n",
      "                 precision    recall  f1-score   support\n",
      "\n",
      "    addressline       0.87      0.83      0.85       752\n",
      "non-addressline       0.89      0.91      0.90      1057\n",
      "\n",
      "       accuracy                           0.88      1809\n",
      "      macro avg       0.88      0.87      0.88      1809\n",
      "   weighted avg       0.88      0.88      0.88      1809\n",
      "\n"
     ]
    }
   ],
   "source": [
    "svc_model = train_model('svm',X_train, y_train)\n",
    "save_model(svc_model, 'models/svm_aug.pkl')\n",
    "print_classifaction_report(svc_model, X_test_org, y_test_org)\n",
    "print('Train dataset\\n')\n",
    "print_classifaction_report(svc_model, X_train, y_train)"
   ]
  },
  {
   "cell_type": "code",
   "execution_count": 44,
   "metadata": {},
   "outputs": [
    {
     "name": "stderr",
     "output_type": "stream",
     "text": [
      "/home/rita/anaconda3/lib/python3.7/site-packages/ipykernel_launcher.py:1: SettingWithCopyWarning: \n",
      "A value is trying to be set on a copy of a slice from a DataFrame.\n",
      "Try using .loc[row_indexer,col_indexer] = value instead\n",
      "\n",
      "See the caveats in the documentation: http://pandas.pydata.org/pandas-docs/stable/user_guide/indexing.html#returning-a-view-versus-a-copy\n",
      "  \"\"\"Entry point for launching an IPython kernel.\n"
     ]
    }
   ],
   "source": [
    "test_data_org['svm_prediction'] = svc_model.predict(X_test_org[imp_columns])"
   ]
  },
  {
   "cell_type": "code",
   "execution_count": 46,
   "metadata": {},
   "outputs": [],
   "source": [
    "false_negative = test_data_org.query(f'svm_prediction == \"non-addressline\" and class_2_target == \"addressline\"')\n",
    "false_positive = test_data_org.query(f'svm_prediction == \"addressline\" and class_2_target == \"non-addressline\"')"
   ]
  },
  {
   "cell_type": "code",
   "execution_count": 55,
   "metadata": {},
   "outputs": [
    {
     "name": "stdout",
     "output_type": "stream",
     "text": [
      "False Negative: 34\n",
      "False Positive: 41\n"
     ]
    }
   ],
   "source": [
    "print(f'False Negative: {len(false_negative)}')\n",
    "print(f'False Positive: {len(false_positive)}')"
   ]
  },
  {
   "cell_type": "code",
   "execution_count": 48,
   "metadata": {},
   "outputs": [
    {
     "name": "stdout",
     "output_type": "stream",
     "text": [
      "text: Course Title : WORK-AT-HEIGHT COURSE FOR NC Learn Union place\n",
      "line_type: partial-addressline\n",
      "----------------------------------------------------------------------------------------------------\n",
      "text: Tax Invoice Email: california@acute.com\n",
      "line_type: partial-addressline\n",
      "----------------------------------------------------------------------------------------------------\n",
      "text: California 127806 PO NO.:\n",
      "line_type: full-addressline\n",
      "----------------------------------------------------------------------------------------------------\n",
      "text: 357103\n",
      "line_type: partial-addressline\n",
      "----------------------------------------------------------------------------------------------------\n",
      "text: Lane California Project Ref: NFI/15/10135 ...\n",
      "line_type: partial-addressline\n",
      "----------------------------------------------------------------------------------------------------\n",
      "text: Toronto, Road\n",
      "line_type: partial-addressline\n",
      "----------------------------------------------------------------------------------------------------\n",
      "text: 382 C.C. : Mr. Tommy\n",
      "line_type: partial-addressline\n",
      "----------------------------------------------------------------------------------------------------\n"
     ]
    }
   ],
   "source": [
    "for row in false_negative.sample(n=10).itertuples():\n",
    "    if row.line_id < 20:\n",
    "        print(f'text: {row.text}\\nline_type: {row.class_3_target}')\n",
    "        print('-'*100)"
   ]
  },
  {
   "cell_type": "code",
   "execution_count": 50,
   "metadata": {},
   "outputs": [
    {
     "name": "stdout",
     "output_type": "stream",
     "text": [
      "text: Attn: RoggetrTarren HP: 9025 6161 Fax: 4309 4865 Tel: 4197 4475\n",
      "line_type: non-addressline\n",
      "----------------------------------------------------------------------------------------------------\n",
      "text: Company Registration No. 1003380910\n",
      "line_type: non-addressline\n",
      "----------------------------------------------------------------------------------------------------\n",
      "text: Mr. Kevin F Meredith Freight Operator RS SGD 2,899.00\n",
      "line_type: non-addressline\n",
      "----------------------------------------------------------------------------------------------------\n",
      "text: MX-DE27 STAND/550X3 SHEET PAPER DRAWER i PC SGD 0.00 0.00 0.00 0.00\n",
      "line_type: non-addressline\n",
      "----------------------------------------------------------------------------------------------------\n",
      "text: GST REG NO: 201022750W 27500\n",
      "line_type: non-addressline\n",
      "----------------------------------------------------------------------------------------------------\n",
      "text: Hong He General Contractor. 15,170.00 Spuy\n",
      "line_type: non-addressline\n",
      "----------------------------------------------------------------------------------------------------\n",
      "text: Accounts Payable 11786615\n",
      "line_type: non-addressline\n",
      "----------------------------------------------------------------------------------------------------\n"
     ]
    }
   ],
   "source": [
    "for row in false_positive.sample(n=10).itertuples():\n",
    "    if row.line_id < 20:\n",
    "        print(f'text: {row.text}\\nline_type: {row.class_3_target}')\n",
    "        print('-'*100)"
   ]
  },
  {
   "cell_type": "markdown",
   "metadata": {},
   "source": [
    "### Observation:\n",
    "In short, here is summary of all the different experiments we did so far.\n",
    "![](score.png)\n",
    "\n",
    "1. As you can see from the above image, data augmentation has definetly improved our overall results, as highlighted above.\n",
    "But, since we are working with very less data points here, ideally it would make sense for us to explore this further with maybe a bit more examples.\n",
    "2. There are multiple other ideas that we could further explore/experiment and see. for instance since we  have a huge set of non-addresslines. we can use that to train a one class model to tag non-addresslines, and whereever the model does not tag, could essentially be our potential candidates for addresslines\n",
    "3. Also, address similarity model is something we can use, to assign some sort of score to the detected lines to further improve our results."
   ]
  },
  {
   "cell_type": "code",
   "execution_count": null,
   "metadata": {},
   "outputs": [],
   "source": []
  }
 ],
 "metadata": {
  "kernelspec": {
   "display_name": "Python 3",
   "language": "python",
   "name": "python3"
  },
  "language_info": {
   "codemirror_mode": {
    "name": "ipython",
    "version": 3
   },
   "file_extension": ".py",
   "mimetype": "text/x-python",
   "name": "python",
   "nbconvert_exporter": "python",
   "pygments_lexer": "ipython3",
   "version": "3.7.4"
  }
 },
 "nbformat": 4,
 "nbformat_minor": 4
}
